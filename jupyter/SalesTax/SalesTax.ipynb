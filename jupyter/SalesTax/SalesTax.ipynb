{
 "cells": [
  {
   "cell_type": "code",
   "execution_count": 1,
   "metadata": {},
   "outputs": [],
   "source": [
    "import pandas as pd\n",
    "import numpy as np\n",
    "import csv\n",
    "import os\n",
    "from pandas import ExcelWriter\n",
    "from GLSettingsByState import GLTaxSettingsByState\n",
    "from datetime import datetime"
   ]
  },
  {
   "cell_type": "code",
   "execution_count": 2,
   "metadata": {},
   "outputs": [],
   "source": [
    "def excelSave(df_dict, output_folder=True):    \n",
    "    def write_df(dataframe, df_key):\n",
    "        if dataframe is None:\n",
    "            print(\"error w/ df\")\n",
    "        # output to \"output\" folder is True (default setting)\n",
    "        output_path = df_key\n",
    "        if output_folder: output_path = \"output/\" + df_key\n",
    "        writer = ExcelWriter(output_path + \".xlsx\", engine=\"xlsxwriter\")\n",
    "        dataframe.to_excel(writer, sheet_name=df_key + \"_\", index=False)\n",
    "        writer.save()\n",
    "        \n",
    "    if isinstance(df_dict, type(dict())):\n",
    "        for df_key in df_dict.keys():\n",
    "            write_df(df_dict.get(df_key, None), df_key)\n",
    "            \n",
    "    \n",
    "def currency_to_float(curr_str):\n",
    "    \"\"\"\n",
    "    input -> currency: str\n",
    "    output -> currency value: float\n",
    "    \n",
    "    Converts str of currency into a float.\n",
    "    Will be used to apply to columns in DF.\n",
    "    Note on behavior of round() from pyton docs:-\n",
    "        'The behavior of round() for floats can be surprising: for example, \n",
    "        round(2.675, 2) gives 2.67 instead of the expected 2.68. \n",
    "        This is not a bug.'\n",
    "\n",
    "    \n",
    "    $1 -> 1.0\n",
    "    ($1) -> -1.0\n",
    "    $0 -> 0.00\n",
    "    $50.50 -> 50.50\n",
    "    $52,555.87 -> 52555.87\n",
    "    float('nan') - > 0.0\n",
    "    525.00 -> 525.00\n",
    "    \"\"\"\n",
    "    # checks if val is already a float, if it is a nan float return 0.0 \n",
    "    # otherwise return float val\n",
    "    if isinstance(curr_str, float): \n",
    "        if isnan(curr_str): \n",
    "            return 0.0\n",
    "        else: \n",
    "            return curr_str\n",
    "    \n",
    "    # check if str value is not valid, if so return 0\n",
    "    if len(curr_str) < 1: \n",
    "        # print('Len less than 1: {}'.format(curr_str))\n",
    "        return 0.0\n",
    "    \n",
    "    float_str = ''\n",
    "    neg_val = False\n",
    "    # check for negative value\n",
    "    if '(' in curr_str : neg_val = True \n",
    "    # iterate over string, remove unwanted charachters\n",
    "    for char in curr_str:\n",
    "        if char in ['(', ')', '$', ',']:\n",
    "            continue\n",
    "        else:\n",
    "            float_str+= char\n",
    "    \n",
    "    #print('str check:', float_str)\n",
    "    # See notes on round() func behavior\n",
    "    if neg_val == True:\n",
    "        return float(float_str) * -1\n",
    "    else:\n",
    "        return float(float_str)"
   ]
  },
  {
   "cell_type": "code",
   "execution_count": 3,
   "metadata": {},
   "outputs": [],
   "source": [
    "__author__ = 'nabeelh-dev'\n",
    "\n",
    "class TaxRates(object):\n",
    "    \"\"\"\n",
    "    Reads tax rate data per Alavara.com\n",
    "    Dict will be contained in self.tax_rates.\n",
    "    Will be able to query by zipcode.\n",
    "    \"\"\"\n",
    "    def __init__(self, csv_path):\n",
    "        self.filepath = csv_path\n",
    "        self.tax_rates = self.parse_csv()\n",
    "\n",
    "    def parse_csv(self):\n",
    "        \"\"\"\n",
    "        Takes str value for directory stored in self.filepath and will process\n",
    "        all tax rate csv files within. Will return a dict that will be set to\n",
    "        TaxRates objects self.tax_rates so we can query by zipcode.\n",
    "        self.tax_rates will contain a dict that has two main keys:\n",
    "        'state_tax_rates': stores all State -> Zipcode -> TaxRates dict\n",
    "        'zipcode_to_state': will be a list of lists, sorted by all states zipcode ranges\n",
    "\n",
    "        zipcode_to_states list will be used for fast querying when looking for zipcodes tax rates.\n",
    "        It will quickly indicate the state we will need to look inside to find the zipcode tax rates,\n",
    "        isntead of looping through state_tax_rates dict which would be inefficient.\n",
    "       \n",
    "        :param: self.filepath: str\n",
    "        :return: states_tax_rates: dict\n",
    "        \"\"\"\n",
    "        states_tax_rates = dict()\n",
    "        zipcode_to_state = dict()\n",
    "\n",
    "        # directory input, process all .csv contained within directory\n",
    "        dirpath = os.path.abspath('')\n",
    "        csv_dp = os.path.join(dirpath, self.filepath)\n",
    "        for filename in os.listdir(csv_dp):\n",
    "            # splits filename to identify state: TAXRATES_ZIP5_AK201901.csv\n",
    "            csv_state_abbr = filename.split(\"ZIP5_\")[1][:2]\n",
    "            if filename.endswith(\".csv\"):\n",
    "                state_tax_csv = os.path.join(csv_dp, filename)\n",
    "                # Read and get data from csv\n",
    "                state_tax_data = TaxRates._parse_single_csv(state_tax_csv)\n",
    "                states_tax_rates[csv_state_abbr] = state_tax_data['zipcode_rates']\n",
    "\n",
    "        # Create and return a dict mapping zipcode to state\n",
    "        # This reverse lookup is used by self.query_by_zipcode()\n",
    "        for state, zipcode_tax_rates in states_tax_rates.items():\n",
    "            for zipcode, tax_rates in zipcode_tax_rates.items():\n",
    "                zipcode_to_state[zipcode] = state\n",
    "\n",
    "        print(\"Zipcode Tax Rates loaded successfully.\")\n",
    "        return {\n",
    "                \"state_tax_rates\": states_tax_rates,\n",
    "                \"zipcode_to_state\": zipcode_to_state\n",
    "                }\n",
    "\n",
    "    @staticmethod\n",
    "    def _parse_single_csv(csv_fp):\n",
    "        \"\"\"\n",
    "        Parses csv at file path. Collects and stores all zipcode data as a dict.\n",
    "        When being read by csv.reader, each row will be a list as follows:\n",
    "        ['WY', '83118', 'LINCOLN COUNTY', '0.040000', '0.050000', '0.010000', '0', '0', '1']\n",
    "    \n",
    "        :param csv_fp: os path object\n",
    "        :return: state_dict: dict\n",
    "        \"\"\"\n",
    "        zipcode_rates = dict()\n",
    "        with open(csv_fp) as csv_file:\n",
    "            #print(\"Opened Tax CSV Successfully: {}\".format(str(csv_fp)))\n",
    "            csv_reader = csv.reader(csv_file)\n",
    "            # Skip the first line of csv file due to header\n",
    "            ## Keep header information in the future??\n",
    "            for i in range(0, 1, 1):\n",
    "                next(csv_reader, None)\n",
    "\n",
    "            for zipcode_tax in csv_reader:\n",
    "                zipcode = zipcode_tax[1]\n",
    "                region_name = zipcode_tax[2]\n",
    "                state_rate = float(zipcode_tax[3])\n",
    "                est_combined_rate = float(zipcode_tax[4])\n",
    "                est_country_rate = float(zipcode_tax[5])\n",
    "                est_city_rate = float(zipcode_tax[6])\n",
    "                est_special_rate = float(zipcode_tax[7])\n",
    "                risk_level = int(zipcode_tax[8])\n",
    "\n",
    "                zipcode_rates[zipcode] = {\n",
    "                                        \"region_name\": region_name,\n",
    "                                        \"state_rate\" : state_rate,\n",
    "                                        \"est_combined_rate\": est_combined_rate,\n",
    "                                        \"est_country_rate\": est_country_rate,\n",
    "                                        \"est_city_rate\": est_city_rate,\n",
    "                                        \"est_special_rate\": est_special_rate,\n",
    "                                        \"risk_level\": risk_level\n",
    "                                        }\n",
    "\n",
    "        return {\n",
    "                'zipcode_rates': zipcode_rates\n",
    "                }\n",
    "\n",
    "    def query_by_zipcode(self, zipcode_str):\n",
    "        \"\"\"\n",
    "        Given a zipcode string, retrieve tax rates for that zipcode.\n",
    "        First accesses 'zipcodes_to_state' dict contained in self.tax_rates to get\n",
    "        the State the zipcode is in.\n",
    "        If zipcode_str does not exist, then print error and return None.\n",
    "\n",
    "        If it exists then uses State key and Zipcode key to obtain correct tax rates from\n",
    "        'state_tax_rates' dict in self.tax_rates\n",
    "\n",
    "        :param zipcode_str: str\n",
    "        :return: zipcode_tax_rates: dict\n",
    "        \"\"\"\n",
    "\n",
    "        # dict get method returns None if key is not found\n",
    "        query_state = self.tax_rates['zipcode_to_state'].get(zipcode_str)\n",
    "        if query_state is None:\n",
    "            print(\"{} - zipcode not found!\".format(zipcode_str))\n",
    "            return None\n",
    "        query_results = self.tax_rates['state_tax_rates'][query_state][zipcode_str]\n",
    "        query_results['zipcode'] = zipcode_str\n",
    "        query_results['state'] = str(query_state)\n",
    "        return query_results"
   ]
  },
  {
   "cell_type": "code",
   "execution_count": 4,
   "metadata": {},
   "outputs": [
    {
     "name": "stdout",
     "output_type": "stream",
     "text": [
      "Zipcode Tax Rates loaded successfully.\n"
     ]
    },
    {
     "data": {
      "text/plain": [
       "{'region_name': 'GARDENA',\n",
       " 'state_rate': 0.06,\n",
       " 'est_combined_rate': 0.095,\n",
       " 'est_country_rate': 0.0025,\n",
       " 'est_city_rate': 0.0,\n",
       " 'est_special_rate': 0.0325,\n",
       " 'risk_level': 1,\n",
       " 'zipcode': '90247',\n",
       " 'state': 'CA'}"
      ]
     },
     "execution_count": 4,
     "metadata": {},
     "output_type": "execute_result"
    }
   ],
   "source": [
    "taxRates = TaxRates(\"TAXRATES_ZIP5/\")\n",
    "taxRates.query_by_zipcode(\"90247\")"
   ]
  },
  {
   "cell_type": "code",
   "execution_count": 5,
   "metadata": {},
   "outputs": [],
   "source": [
    "with open(\"REGION_TO_ZIP.csv\") as csv_file:\n",
    "    df = pd.read_csv(csv_file, delimiter=\",\").set_index(\"REGION\")\n",
    "    regionToZip = df.to_dict('index')"
   ]
  },
  {
   "cell_type": "code",
   "execution_count": 6,
   "metadata": {},
   "outputs": [],
   "source": [
    "#taxRates.query_by_zipcode(\"92040\")\n",
    "#regionToZip[234]"
   ]
  },
  {
   "cell_type": "code",
   "execution_count": 7,
   "metadata": {},
   "outputs": [],
   "source": [
    "folder_dir = \"test_NAPGLDATA\"\n",
    "\n",
    "df_list = list()\n",
    "for file in os.listdir(folder_dir):\n",
    "    if file.endswith(\".csv\"):\n",
    "        fp_ = os.path.join(folder_dir, file)\n",
    "        with open(fp_) as csv_file:\n",
    "            for i in range(0, 5):\n",
    "                next(csv_file, i)\n",
    "            df_list.append(pd.read_csv(csv_file, delimiter=\",\"))\n",
    "        \n",
    "stax_df = pd.concat(df_list, axis=0, ignore_index=True)"
   ]
  },
  {
   "cell_type": "code",
   "execution_count": 8,
   "metadata": {},
   "outputs": [],
   "source": [
    "nap_csv_colMap = {\n",
    "                    'Segment3': 'section',\n",
    "                    'Segment4': 'area',\n",
    "                    'Segment5': 'region',\n",
    "                    'Account Description': 'glAcctDesc',\n",
    "                    'Record Type::Number': 'Record Type::Number',\n",
    "                    'CM Trx Type': 'refNum',\n",
    "                    'TRX Timestamp Date': 'trxDate',\n",
    "                    'GL Posting Date': 'glDate',\n",
    "                    'Description': 'trxDesc',\n",
    "                    'Main Account Segment': 'glAcct',\n",
    "                    'PaidToRcvd From': 'paidToRcvd',\n",
    "                    'TRX Amount': 'trxAmount',\n",
    "                    'Originating Debit Amount': 'debitAmt',\n",
    "                    'Originating Credit Amount': 'creditAmt'\n",
    "                    }\n",
    "stax_df.rename(mapper=nap_csv_colMap, inplace=True, axis=1)\n",
    "# dropping these columns because we don't need their information\n",
    "stax_df.drop([\"Segment6\", \"Segment2\", \"trxDate\"], axis=1, inplace=True)"
   ]
  },
  {
   "cell_type": "code",
   "execution_count": 9,
   "metadata": {},
   "outputs": [
    {
     "data": {
      "text/html": [
       "<div>\n",
       "<style scoped>\n",
       "    .dataframe tbody tr th:only-of-type {\n",
       "        vertical-align: middle;\n",
       "    }\n",
       "\n",
       "    .dataframe tbody tr th {\n",
       "        vertical-align: top;\n",
       "    }\n",
       "\n",
       "    .dataframe thead th {\n",
       "        text-align: right;\n",
       "    }\n",
       "</style>\n",
       "<table border=\"1\" class=\"dataframe\">\n",
       "  <thead>\n",
       "    <tr style=\"text-align: right;\">\n",
       "      <th></th>\n",
       "      <th>Record Type::Number</th>\n",
       "      <th>refNum</th>\n",
       "      <th>glDate</th>\n",
       "      <th>Trx Number</th>\n",
       "      <th>paidToRcvd</th>\n",
       "      <th>trxDesc</th>\n",
       "      <th>trxAmount</th>\n",
       "      <th>debitAmt</th>\n",
       "      <th>creditAmt</th>\n",
       "      <th>glAcct</th>\n",
       "      <th>section</th>\n",
       "      <th>area</th>\n",
       "      <th>region</th>\n",
       "      <th>glAcctDesc</th>\n",
       "    </tr>\n",
       "  </thead>\n",
       "  <tbody>\n",
       "    <tr>\n",
       "      <th>0</th>\n",
       "      <td>20::1</td>\n",
       "      <td>Supplier Invoice</td>\n",
       "      <td>2018-07-07</td>\n",
       "      <td>1</td>\n",
       "      <td>NOCRA</td>\n",
       "      <td>NaN</td>\n",
       "      <td>$0.00</td>\n",
       "      <td>$0.00</td>\n",
       "      <td>$156.00</td>\n",
       "      <td>2010</td>\n",
       "      <td>0A11</td>\n",
       "      <td>Q</td>\n",
       "      <td>0</td>\n",
       "      <td>Accounts Payable/AP Trade</td>\n",
       "    </tr>\n",
       "    <tr>\n",
       "      <th>1</th>\n",
       "      <td>20::1</td>\n",
       "      <td>Supplier Invoice</td>\n",
       "      <td>2018-07-07</td>\n",
       "      <td>1</td>\n",
       "      <td>NOCRA</td>\n",
       "      <td>// May/June 2018 Assignor Fees</td>\n",
       "      <td>$0.00</td>\n",
       "      <td>$156.00</td>\n",
       "      <td>$0.00</td>\n",
       "      <td>5313</td>\n",
       "      <td>0A11</td>\n",
       "      <td>Q</td>\n",
       "      <td>0</td>\n",
       "      <td>Referee Fees</td>\n",
       "    </tr>\n",
       "    <tr>\n",
       "      <th>2</th>\n",
       "      <td>20::2</td>\n",
       "      <td>Supplier Invoice</td>\n",
       "      <td>2018-07-07</td>\n",
       "      <td>2</td>\n",
       "      <td>AYSO Area 11Q</td>\n",
       "      <td>Reimbursement for Adult League Expenses from 1...</td>\n",
       "      <td>$0.00</td>\n",
       "      <td>$0.00</td>\n",
       "      <td>$6858.66</td>\n",
       "      <td>2010</td>\n",
       "      <td>0A11</td>\n",
       "      <td>Q</td>\n",
       "      <td>0</td>\n",
       "      <td>Accounts Payable/AP Trade</td>\n",
       "    </tr>\n",
       "  </tbody>\n",
       "</table>\n",
       "</div>"
      ],
      "text/plain": [
       "  Record Type::Number            refNum      glDate Trx Number     paidToRcvd  \\\n",
       "0               20::1  Supplier Invoice  2018-07-07          1          NOCRA   \n",
       "1               20::1  Supplier Invoice  2018-07-07          1          NOCRA   \n",
       "2               20::2  Supplier Invoice  2018-07-07          2  AYSO Area 11Q   \n",
       "\n",
       "                                             trxDesc trxAmount debitAmt  \\\n",
       "0                                                NaN     $0.00    $0.00   \n",
       "1                     // May/June 2018 Assignor Fees     $0.00  $156.00   \n",
       "2  Reimbursement for Adult League Expenses from 1...     $0.00    $0.00   \n",
       "\n",
       "  creditAmt  glAcct section area  region                 glAcctDesc  \n",
       "0   $156.00    2010    0A11    Q       0  Accounts Payable/AP Trade  \n",
       "1     $0.00    5313    0A11    Q       0               Referee Fees  \n",
       "2  $6858.66    2010    0A11    Q       0  Accounts Payable/AP Trade  "
      ]
     },
     "execution_count": 9,
     "metadata": {},
     "output_type": "execute_result"
    }
   ],
   "source": [
    "stax_df.head(3)"
   ]
  },
  {
   "cell_type": "code",
   "execution_count": 10,
   "metadata": {},
   "outputs": [],
   "source": [
    "# get rid of rows that don't have a region value or have a value of 0\n",
    "stax_df = stax_df.loc[stax_df[\"region\"] != 0]\n",
    "# get rid of rows that have a 0 for Trx Amount, these are reversed or voided journal lines.\n",
    "#stax_df = stax_df.loc[stax_df[\"trxAmount\"] != 0.0] DOING THIS IN THE STATE FILTERING STEP WAY BELOW\n",
    "\n",
    "# apply state, city and zipcode for each invoice row in dataset using loaded csv file (REGION_TO_ZIP.csv)\n",
    "stax_df[\"state\"] = pd.Series(stax_df[\"region\"].apply(lambda x: regionToZip[x]['STATE']))\n",
    "stax_df[\"city\"] = pd.Series(stax_df[\"region\"].apply(lambda x: regionToZip[x]['CITY']))\n",
    "stax_df[\"zipcode\"] = pd.Series(stax_df[\"region\"].apply(lambda x: regionToZip[x][\"ZIP\"]))"
   ]
  },
  {
   "cell_type": "code",
   "execution_count": 11,
   "metadata": {},
   "outputs": [],
   "source": [
    "stax_df[\"trxAmount\"] = stax_df[\"trxAmount\"].apply(lambda x: currency_to_float(x))\n",
    "stax_df[\"debitAmt\"] = stax_df[\"debitAmt\"].apply(lambda x: currency_to_float(x))\n",
    "stax_df[\"creditAmt\"] = stax_df[\"creditAmt\"].apply(lambda x: currency_to_float(x))\n",
    "stax_df[\"glAcct\"] = stax_df[\"glAcct\"].astype(np.int64)\n",
    "# old dec test csv files have a date format of \"%m/%d/%Y\"\n",
    "stax_df[\"glDate\"] = pd.to_datetime(stax_df[\"glDate\"], format=\"%Y-%m-%d\", errors=\"coerce\")"
   ]
  },
  {
   "cell_type": "code",
   "execution_count": 12,
   "metadata": {},
   "outputs": [
    {
     "data": {
      "text/plain": [
       "(90462, 17)"
      ]
     },
     "execution_count": 12,
     "metadata": {},
     "output_type": "execute_result"
    }
   ],
   "source": [
    "stax_df.shape"
   ]
  },
  {
   "cell_type": "markdown",
   "metadata": {},
   "source": [
    "Anything with a GL code less than 5000 is a Revenue account.\n",
    "Anything with a GL code above 5000 is an Expense account"
   ]
  },
  {
   "cell_type": "code",
   "execution_count": 13,
   "metadata": {},
   "outputs": [],
   "source": [
    "\"\"\"conditions = [region_df[\"glAcct\"] < 5000,\n",
    "             region_df[\"glAcct\"] > 5000]\n",
    "outputs = [\"Expense\", \"Revenue\"]\n",
    "\n",
    "res = np.select(conditions, outputs)\n",
    "region_df[\"Exp/Rev\"] = pd.Series(res)\n",
    "\"\"\"\n",
    "stax_df[\"Exp/Rev\"] = np.where(stax_df['glAcct']>=5000, \"Expense\", \"Revenue\")"
   ]
  },
  {
   "cell_type": "code",
   "execution_count": 14,
   "metadata": {},
   "outputs": [],
   "source": [
    "# nets credits and debits values into one column (taxableAmt). Credits are negative and debits are positive values\n",
    "stax_df[\"taxableAmt\"] = stax_df[\"debitAmt\"] + (stax_df[\"creditAmt\"] * -1)"
   ]
  },
  {
   "cell_type": "code",
   "execution_count": 15,
   "metadata": {},
   "outputs": [
    {
     "data": {
      "text/html": [
       "<div>\n",
       "<style scoped>\n",
       "    .dataframe tbody tr th:only-of-type {\n",
       "        vertical-align: middle;\n",
       "    }\n",
       "\n",
       "    .dataframe tbody tr th {\n",
       "        vertical-align: top;\n",
       "    }\n",
       "\n",
       "    .dataframe thead th {\n",
       "        text-align: right;\n",
       "    }\n",
       "</style>\n",
       "<table border=\"1\" class=\"dataframe\">\n",
       "  <thead>\n",
       "    <tr style=\"text-align: right;\">\n",
       "      <th></th>\n",
       "      <th>Record Type::Number</th>\n",
       "      <th>refNum</th>\n",
       "      <th>glDate</th>\n",
       "      <th>Trx Number</th>\n",
       "      <th>paidToRcvd</th>\n",
       "      <th>trxDesc</th>\n",
       "      <th>trxAmount</th>\n",
       "      <th>debitAmt</th>\n",
       "      <th>creditAmt</th>\n",
       "      <th>glAcct</th>\n",
       "      <th>section</th>\n",
       "      <th>area</th>\n",
       "      <th>region</th>\n",
       "      <th>glAcctDesc</th>\n",
       "      <th>state</th>\n",
       "      <th>city</th>\n",
       "      <th>zipcode</th>\n",
       "      <th>Exp/Rev</th>\n",
       "      <th>taxableAmt</th>\n",
       "    </tr>\n",
       "  </thead>\n",
       "  <tbody>\n",
       "    <tr>\n",
       "      <th>55</th>\n",
       "      <td>2::11</td>\n",
       "      <td>Bank Deposit</td>\n",
       "      <td>2018-07-10</td>\n",
       "      <td>11</td>\n",
       "      <td>Blue Sombrero - Credit Card</td>\n",
       "      <td>NaN</td>\n",
       "      <td>-86.94</td>\n",
       "      <td>0.0</td>\n",
       "      <td>86.94</td>\n",
       "      <td>4005</td>\n",
       "      <td>0A14</td>\n",
       "      <td>L</td>\n",
       "      <td>1408</td>\n",
       "      <td>Registration Fee</td>\n",
       "      <td>FL</td>\n",
       "      <td>Wildwood</td>\n",
       "      <td>34785.0</td>\n",
       "      <td>Revenue</td>\n",
       "      <td>-86.94</td>\n",
       "    </tr>\n",
       "  </tbody>\n",
       "</table>\n",
       "</div>"
      ],
      "text/plain": [
       "   Record Type::Number        refNum     glDate Trx Number  \\\n",
       "55               2::11  Bank Deposit 2018-07-10         11   \n",
       "\n",
       "                     paidToRcvd trxDesc  trxAmount  debitAmt  creditAmt  \\\n",
       "55  Blue Sombrero - Credit Card     NaN     -86.94       0.0      86.94   \n",
       "\n",
       "    glAcct section area  region        glAcctDesc state      city  zipcode  \\\n",
       "55    4005    0A14    L    1408  Registration Fee    FL  Wildwood  34785.0   \n",
       "\n",
       "    Exp/Rev  taxableAmt  \n",
       "55  Revenue      -86.94  "
      ]
     },
     "execution_count": 15,
     "metadata": {},
     "output_type": "execute_result"
    }
   ],
   "source": [
    "stax_df.head(1)"
   ]
  },
  {
   "cell_type": "markdown",
   "metadata": {},
   "source": [
    "# SINGLE STATE TESTS"
   ]
  },
  {
   "cell_type": "code",
   "execution_count": null,
   "metadata": {},
   "outputs": [],
   "source": [
    "state_ = \"PA\"\n",
    "period = [\"12-01-2018\", \"12-31-2018\"]"
   ]
  },
  {
   "cell_type": "code",
   "execution_count": null,
   "metadata": {},
   "outputs": [],
   "source": [
    "# filter by input State\n",
    "state_df = stax_df.loc[stax_df[\"state\"]==state_]\n",
    "\n",
    "# filter by start and enddate using glDate col\n",
    "state_df = state_df.loc[(state_df[\"glDate\"] >= period[0]) & (state_df[\"glDate\"] <= period[1])]"
   ]
  },
  {
   "cell_type": "code",
   "execution_count": null,
   "metadata": {},
   "outputs": [],
   "source": [
    "stateGL_settings = GLTaxSettingsByState[state_]\n",
    "stateGL_settings"
   ]
  },
  {
   "cell_type": "code",
   "execution_count": null,
   "metadata": {},
   "outputs": [],
   "source": [
    "taxableGL = [int(x) for x,y in stateGL_settings.items() if y]\n",
    "taxableGL"
   ]
  },
  {
   "cell_type": "code",
   "execution_count": null,
   "metadata": {},
   "outputs": [],
   "source": [
    "# if glAcct is in Taxable_gl code list then mark as Taxable and if not then mark Non-Taxable\n",
    "state_df[\"Taxable?\"] = np.where(state_df['glAcct'].isin(taxableGL), \"Taxable\", \"Non-Taxable\")"
   ]
  },
  {
   "cell_type": "code",
   "execution_count": null,
   "metadata": {},
   "outputs": [],
   "source": [
    "# If Taxable then update taxableAmt to zero.\n",
    "# UPDATE: tried doing so but too annoying to seperate out.\n",
    "#state_df[\"taxableAmt\"] = state_df[\"taxableAmt\"] * np.where(state_df[\"Taxable?\"]==\"Taxable\", 1, 0)"
   ]
  },
  {
   "cell_type": "code",
   "execution_count": null,
   "metadata": {},
   "outputs": [],
   "source": [
    "state_df.head(3)"
   ]
  },
  {
   "cell_type": "code",
   "execution_count": null,
   "metadata": {},
   "outputs": [],
   "source": [
    "parsed_state_df = state_df.sort_values(by=[\"Taxable?\", \"Record Type::Number\"], ascending=True)"
   ]
  },
  {
   "cell_type": "code",
   "execution_count": null,
   "metadata": {},
   "outputs": [],
   "source": [
    "parsed_state_df.head(3)"
   ]
  },
  {
   "cell_type": "code",
   "execution_count": null,
   "metadata": {},
   "outputs": [],
   "source": [
    "#parsed_state_df.set_index([\"section\", \"area\", \"region\", \"Taxable?\"])"
   ]
  },
  {
   "cell_type": "code",
   "execution_count": null,
   "metadata": {},
   "outputs": [],
   "source": [
    "# for Taxable rows, groupby section, area, city, region and taxable and sum up all taxableAmts\n",
    "parsed_state_df.loc[parsed_state_df[\"Taxable?\"]==\"Taxable\"].groupby(by=[\"section\", \"area\", \"city\", \"region\", \"Taxable?\"])[\"taxableAmt\"].sum()"
   ]
  },
  {
   "cell_type": "code",
   "execution_count": null,
   "metadata": {},
   "outputs": [],
   "source": [
    "#state_df[state_df[\"taxableAmt\"]==1402.79]"
   ]
  },
  {
   "cell_type": "code",
   "execution_count": null,
   "metadata": {},
   "outputs": [],
   "source": [
    "# sums for record number for only Taxable ones\n",
    "trx_sums = parsed_state_df.loc[parsed_state_df[\"Taxable?\"]==\"Taxable\"].groupby(by=\"Record Type::Number\")[\"taxableAmt\"].sum().sort_values()\n",
    "trx_sums"
   ]
  },
  {
   "cell_type": "code",
   "execution_count": null,
   "metadata": {},
   "outputs": [],
   "source": [
    "# just group index by record number\n",
    "parsed_state_df_byRecs = parsed_state_df.set_index(\"Record Type::Number\")\n",
    "parsed_state_df_byRecs.head(5)"
   ]
  },
  {
   "cell_type": "code",
   "execution_count": null,
   "metadata": {},
   "outputs": [],
   "source": [
    "recordTaxableTotals = parsed_state_df_byRecs.groupby(\"Record Type::Number\")[\"taxableAmt\"].sum()\n",
    "recordTaxableTotals[0:10]"
   ]
  },
  {
   "cell_type": "code",
   "execution_count": null,
   "metadata": {},
   "outputs": [],
   "source": [
    "#recordTaxableTotals.align(trx_sums, join=\"outer\")[0]"
   ]
  },
  {
   "cell_type": "code",
   "execution_count": null,
   "metadata": {},
   "outputs": [],
   "source": [
    "#recordTaxableTotals.loc['1::702']"
   ]
  },
  {
   "cell_type": "code",
   "execution_count": null,
   "metadata": {},
   "outputs": [],
   "source": [
    "# Creates series that holds True for first time a unique record number appears in df (assuming its indexed by record number)\n",
    "r_dict = dict()\n",
    "\n",
    "r_values = list()\n",
    "r_taxableSum = list()\n",
    "r_index = list()\n",
    "for item in parsed_state_df_byRecs.index:\n",
    "    if r_dict.get(str(item)):\n",
    "        r_values.append(False)\n",
    "        r_index.append(item)\n",
    "        r_taxableSum.append(0)\n",
    "        #print([item, False])\n",
    "        continue\n",
    "    \n",
    "    # if row has record number that doesn't exist in sum taxable record pivot abot\n",
    "    r_values.append(True)\n",
    "    r_index.append(item)\n",
    "    r_taxableSum.append(recordTaxableTotals.loc[item])\n",
    "    #print([item, True])\n",
    "    r_dict[str(item)] = True\n",
    "\n",
    "firstUniqueRecordPosition = pd.Series(r_values, index= r_index)\n",
    "firstUniqueRecordPosition[0:10]"
   ]
  },
  {
   "cell_type": "code",
   "execution_count": null,
   "metadata": {},
   "outputs": [],
   "source": [
    "recSumsByRecordPosition = pd.Series(r_taxableSum, index= r_index)\n",
    "recSumsByRecordPosition[0:10]"
   ]
  },
  {
   "cell_type": "code",
   "execution_count": null,
   "metadata": {},
   "outputs": [],
   "source": [
    "#pd.Series(r_values, index= r_index) & parsed_state_df.set_index(\"Record Type::Number\")[\"taxableAmt\"]\n",
    "parsed_state_df_byRecs[\"netTax\"] = recSumsByRecordPosition"
   ]
  },
  {
   "cell_type": "code",
   "execution_count": null,
   "metadata": {},
   "outputs": [],
   "source": [
    "parsed_state_df_byRecs.sort_index().head(10)"
   ]
  },
  {
   "cell_type": "code",
   "execution_count": null,
   "metadata": {},
   "outputs": [],
   "source": [
    "excelSave({state_+\"_\"+period[0]+\"-\"+period[1]+\"_test\": parsed_state_df})"
   ]
  },
  {
   "cell_type": "code",
   "execution_count": null,
   "metadata": {},
   "outputs": [],
   "source": [
    "\"\"\"\n",
    "ASK about: 1::702 taxable and non taxable\n",
    "\n",
    "LOOK AT : 2::271\n",
    "\n",
    "\"\"\""
   ]
  },
  {
   "cell_type": "markdown",
   "metadata": {},
   "source": [
    "# PROCESS MULTIPLE STATES AND DATES"
   ]
  },
  {
   "cell_type": "code",
   "execution_count": 16,
   "metadata": {},
   "outputs": [],
   "source": [
    "def process_SalesTax(state_, period):\n",
    "    #period[1][0], period[1][1] = datetime.strptime(period[1][0], \"%m-%d-%Y\"), datetime.strptime(period[1][1], \"%m-%d-%Y\")\n",
    "    # filter by input State\n",
    "    state_df = stax_df.loc[stax_df[\"state\"]==state_]\n",
    "    \n",
    "    # get rid of rows that have a 0 for Trx Amount, these are reversed or voided journal lines.\n",
    "    #state_df = state_df.loc[state_df[\"trxAmount\"] != 0.0]\n",
    "\n",
    "    # filter by start and enddate using glDate col\n",
    "    try:\n",
    "        state_df = state_df.loc[(state_df[\"glDate\"] >= period[0]) & (state_df[\"glDate\"] <= period[1])]\n",
    "    except TypeError:\n",
    "        print(\"ERROR W/ DATES INPUT- {} for State- {}\".format(period, state_))\n",
    "        return None\n",
    "\n",
    "    stateGL_settings = GLTaxSettingsByState[state_]\n",
    "    taxableGL = [int(x) for x,y in stateGL_settings.items() if y]\n",
    "\n",
    "    # if glAcct is in Taxable_gl code list then mark as Taxable and if not then mark Non-Taxable\n",
    "    state_df[\"Taxable?\"] = np.where(state_df['glAcct'].isin(taxableGL), \"Taxable\", \"Non-Taxable\")\n",
    "\n",
    "    parsed_state_df = state_df.sort_values(by=[\"Taxable?\", \"Record Type::Number\"], ascending=False)\n",
    "    \n",
    "    # Set output_folder=False if you don't want files to be saved into output folder\n",
    "    excelSave({state_+\"_\"+period[0]+\"-\"+period[1]: parsed_state_df})\n",
    "    print(\"SUCCESS {} for State- {}\".format(period, state_))"
   ]
  },
  {
   "cell_type": "code",
   "execution_count": 25,
   "metadata": {},
   "outputs": [],
   "source": [
    "\"\"\"\n",
    "For each item in list:\n",
    "Process State for specified date range.\n",
    "\n",
    "process_list = [\n",
    "                [\"PA\", [\"12-01-2018\", \"12-31-2018\"]],\n",
    "                [\"CA\", [\"11-01-2018\", \"11-30-2018\"]],\n",
    "                [\"LA\", [\"12-01-2018\", \"12-31-2018\"]],\n",
    "                [\"AZ\", [\"12-01-2018\", \"12-31-2018\"]],\n",
    "                [\"NE\", [\"12-01-2018\", \"12-31-2018\"]]\n",
    "                ]\n",
    "\"\"\"\n",
    "process_list = [\n",
    "                [\"FL\", [\"11-01-2018\", \"01-31-2019\"]],\n",
    "                ]"
   ]
  },
  {
   "cell_type": "code",
   "execution_count": 26,
   "metadata": {},
   "outputs": [
    {
     "name": "stdout",
     "output_type": "stream",
     "text": [
      "SUCCESS ['11-01-2018', '01-31-2019'] for State- FL\n"
     ]
    }
   ],
   "source": [
    "for state in process_list:\n",
    "    process_SalesTax(state[0], state[1])"
   ]
  },
  {
   "cell_type": "code",
   "execution_count": null,
   "metadata": {},
   "outputs": [],
   "source": [
    "stax_df.loc[(stax_df[\"paidToRcvd\"] == \"Score Sports\") & (stax_df[\"state\"] == \"AZ\")]"
   ]
  }
 ],
 "metadata": {
  "kernelspec": {
   "display_name": "Python 3",
   "language": "python",
   "name": "python3"
  },
  "language_info": {
   "codemirror_mode": {
    "name": "ipython",
    "version": 3
   },
   "file_extension": ".py",
   "mimetype": "text/x-python",
   "name": "python",
   "nbconvert_exporter": "python",
   "pygments_lexer": "ipython3",
   "version": "3.6.6"
  }
 },
 "nbformat": 4,
 "nbformat_minor": 2
}
